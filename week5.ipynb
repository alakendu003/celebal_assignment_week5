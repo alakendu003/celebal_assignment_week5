{
 "cells": [
  {
   "cell_type": "code",
   "execution_count": null,
   "id": "987ead67-fe0a-4b01-b6a1-1edd78f54efe",
   "metadata": {},
   "outputs": [],
   "source": [
    "import pandas as pd\n",
    "import numpy as np\n",
    "\n",
    "train = pd.read_csv(\"train.csv\")\n",
    "test = pd.read_csv(\"test.csv\")\n",
    "full_data = pd.concat([train, test], sort=False)  # Combine for uniform preprocessing\n",
    "\n",
    "print(train.shape)\n",
    "print(test.shape)\n",
    "train.head()\n"
   ]
  },
  {
   "cell_type": "code",
   "execution_count": null,
   "id": "99b11811-8f74-4fcc-8a43-dae0659d0f1f",
   "metadata": {},
   "outputs": [],
   "source": [
    "missing = full_data.isnull().sum()\n",
    "missing[missing > 0].sort_values(ascending=False)\n"
   ]
  },
  {
   "cell_type": "code",
   "execution_count": null,
   "id": "66bb6e67-e8a0-4467-bde5-6aaee5a4370b",
   "metadata": {},
   "outputs": [],
   "source": [
    "none_fill = ['PoolQC', 'MiscFeature', 'Alley', 'Fence', 'FireplaceQu',\n",
    "             'GarageType', 'GarageFinish', 'GarageQual', 'GarageCond',\n",
    "             'BsmtQual', 'BsmtCond', 'BsmtExposure', 'BsmtFinType1', 'BsmtFinType2']\n",
    "for col in none_fill:\n",
    "    full_data[col] = full_data[col].fillna(\"None\")\n"
   ]
  },
  {
   "cell_type": "code",
   "execution_count": null,
   "id": "000b5666-9c9e-4b59-a9cc-5928deaa29d4",
   "metadata": {},
   "outputs": [],
   "source": [
    "zero_fill = ['GarageYrBlt', 'GarageArea', 'GarageCars',\n",
    "             'BsmtFinSF1', 'BsmtFinSF2', 'BsmtUnfSF',\n",
    "             'TotalBsmtSF', 'BsmtFullBath', 'BsmtHalfBath', 'MasVnrArea']\n",
    "for col in zero_fill:\n",
    "    full_data[col] = full_data[col].fillna(0)\n",
    "\n",
    "# LotFrontage: group-wise median\n",
    "full_data['LotFrontage'] = full_data.groupby(\"Neighborhood\")[\"LotFrontage\"].transform(lambda x: x.fillna(x.median()))\n"
   ]
  },
  {
   "cell_type": "code",
   "execution_count": null,
   "id": "b6201ea6-2c40-4cfd-aa14-e6d45e613981",
   "metadata": {},
   "outputs": [],
   "source": [
    "full_data['TotalSF'] = full_data['TotalBsmtSF'] + full_data['1stFlrSF'] + full_data['2ndFlrSF']\n"
   ]
  },
  {
   "cell_type": "code",
   "execution_count": null,
   "id": "33336ec7-7152-4db0-8bfc-dc42ca5e016a",
   "metadata": {},
   "outputs": [],
   "source": [
    "full_data['HouseAge'] = full_data['YrSold'] - full_data['YearBuilt']\n",
    "full_data['RemodAge'] = full_data['YrSold'] - full_data['YearRemodAdd']\n",
    "full_data['IsRemod'] = (full_data['YearBuilt'] != full_data['YearRemodAdd']).astype(int)\n"
   ]
  },
  {
   "cell_type": "code",
   "execution_count": null,
   "id": "5e6269e7-8cf6-463f-8321-c54016b4933f",
   "metadata": {},
   "outputs": [],
   "source": [
    "full_data['TotalBath'] = (full_data['BsmtFullBath'] + full_data['FullBath'] +\n",
    "                          0.5 * (full_data['BsmtHalfBath'] + full_data['HalfBath']))\n"
   ]
  },
  {
   "cell_type": "code",
   "execution_count": null,
   "id": "ebce8334-8320-4e00-87d7-39595f72ce0a",
   "metadata": {},
   "outputs": [],
   "source": [
    "full_data['TotalPorchSF'] = (full_data['OpenPorchSF'] + full_data['EnclosedPorch'] +\n",
    "                             full_data['3SsnPorch'] + full_data['ScreenPorch'])\n"
   ]
  },
  {
   "cell_type": "code",
   "execution_count": null,
   "id": "48a5a651-600e-4322-8ca8-899a71b2b6f1",
   "metadata": {},
   "outputs": [],
   "source": [
    "from sklearn.preprocessing import LabelEncoder\n",
    "\n",
    "ordinal_cols = ['ExterQual', 'ExterCond', 'BsmtQual', 'BsmtCond',\n",
    "                'HeatingQC', 'KitchenQual', 'FireplaceQu', 'GarageQual',\n",
    "                'GarageCond', 'PoolQC']\n",
    "for col in ordinal_cols:\n",
    "    le = LabelEncoder()\n",
    "    full_data[col] = le.fit_transform(full_data[col].astype(str))\n"
   ]
  },
  {
   "cell_type": "code",
   "execution_count": null,
   "id": "a7edc2a4-6095-4857-a402-6725eceb9fe5",
   "metadata": {},
   "outputs": [],
   "source": [
    "full_data = pd.get_dummies(full_data, drop_first=True)\n"
   ]
  },
  {
   "cell_type": "code",
   "execution_count": null,
   "id": "93e9483e-246d-4eae-b418-27c9d9dc3430",
   "metadata": {},
   "outputs": [],
   "source": [
    "from scipy.stats import skew\n",
    "\n",
    "num_feats = full_data.dtypes[full_data.dtypes != \"object\"].index\n",
    "skewed_feats = full_data[num_feats].apply(lambda x: skew(x.dropna())).sort_values(ascending=False)\n",
    "high_skew = skewed_feats[skewed_feats > 0.75]\n",
    "\n",
    "# Apply log1p transformation\n",
    "for feat in high_skew.index:\n",
    "    full_data[feat] = np.log1p(full_data[feat])\n"
   ]
  },
  {
   "cell_type": "code",
   "execution_count": null,
   "id": "bdb374b3-5e14-4bc3-a5c4-b19fad5c5796",
   "metadata": {},
   "outputs": [],
   "source": [
    "from sklearn.preprocessing import StandardScaler\n",
    "\n",
    "scaler = StandardScaler()\n",
    "scaled_features = ['GrLivArea', 'TotalSF', 'LotArea', 'TotalBath']\n",
    "full_data[scaled_features] = scaler.fit_transform(full_data[scaled_features])\n"
   ]
  },
  {
   "cell_type": "code",
   "execution_count": null,
   "id": "1d4db3e4-a4c1-4ec4-b612-7403a8ead82d",
   "metadata": {},
   "outputs": [],
   "source": [
    "train_prepared = full_data[:len(train)]\n",
    "test_prepared = full_data[len(train):]\n",
    "y = train['SalePrice']\n",
    "\n",
    "# Apply log transformation to SalePrice (reduces skew)\n",
    "y = np.log1p(y)\n"
   ]
  }
 ],
 "metadata": {
  "kernelspec": {
   "display_name": "Python 3 (ipykernel)",
   "language": "python",
   "name": "python3"
  },
  "language_info": {
   "codemirror_mode": {
    "name": "ipython",
    "version": 3
   },
   "file_extension": ".py",
   "mimetype": "text/x-python",
   "name": "python",
   "nbconvert_exporter": "python",
   "pygments_lexer": "ipython3",
   "version": "3.12.7"
  }
 },
 "nbformat": 4,
 "nbformat_minor": 5
}
